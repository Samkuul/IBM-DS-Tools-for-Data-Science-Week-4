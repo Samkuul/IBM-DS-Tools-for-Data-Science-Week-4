{
 "cells": [
  {
   "cell_type": "markdown",
   "id": "45c5f09b-454f-4b5a-8f29-ee18a6af3a56",
   "metadata": {},
   "source": [
    "# My Juptyer Notebook on IBM Watson Studio"
   ]
  },
  {
   "cell_type": "markdown",
   "id": "4c4ccf2c-a8e3-47e5-88ae-8033ec5adf50",
   "metadata": {},
   "source": [
    "**Sandras Crispin Kulemeka**\n",
    "\n",
    "Investment Banker"
   ]
  },
  {
   "cell_type": "markdown",
   "id": "ef83b272-9fdb-491a-bbae-1aa23f2f3c30",
   "metadata": {},
   "source": [
    "_I would like to work in the finance industry, working for an investment bank that serves governments and corporations. Ensuring a high chance of investments succeed by following the patterns in data. Minimizing the rate of bad investments that usually result in wasted time and resources, disappoints, and in some cases loss of trust amongst stakeholders._\n"
   ]
  },
  {
   "cell_type": "markdown",
   "id": "73bfae2f-fb6b-443e-a118-91dc4bc7ceda",
   "metadata": {},
   "source": [
    "###This code in cell 5 is suppose to add one to one and output the answer which will be 2"
   ]
  },
  {
   "cell_type": "code",
   "execution_count": 5,
   "id": "25c277b3-96b0-401b-ad8e-e54a7d1139dd",
   "metadata": {},
   "outputs": [
    {
     "name": "stdout",
     "output_type": "stream",
     "text": [
      "2\n"
     ]
    }
   ],
   "source": [
    "a = 1+1\n",
    "print(a)"
   ]
  },
  {
   "cell_type": "markdown",
   "id": "d040f182-d390-4b77-93ad-e5de13b1dec0",
   "metadata": {},
   "source": [
    "<html>\n",
    "    <ul>\n",
    "        <li>Testing 1</li>\n",
    "        <li>Testing 1, 2</li>\n",
    "        <li>Testing 1, 2, 3</li>\n",
    "    </ul>\n",
    "    <hr />\n",
    "    <ol>\n",
    "        <li>First Item</li>\n",
    "        <li>Second Item</li>\n",
    "        <li>Third Item</li>\n",
    "    </ol>    \n",
    "</html>\n",
    "\n",
    "|First Table Header|Second Table Header|\n",
    "|------|-----|\n",
    "|table content|table Content|"
   ]
  }
 ],
 "metadata": {
  "kernelspec": {
   "display_name": "Python 3 (ipykernel)",
   "language": "python",
   "name": "python3"
  },
  "language_info": {
   "codemirror_mode": {
    "name": "ipython",
    "version": 3
   },
   "file_extension": ".py",
   "mimetype": "text/x-python",
   "name": "python",
   "nbconvert_exporter": "python",
   "pygments_lexer": "ipython3",
   "version": "3.10.4"
  }
 },
 "nbformat": 4,
 "nbformat_minor": 5
}

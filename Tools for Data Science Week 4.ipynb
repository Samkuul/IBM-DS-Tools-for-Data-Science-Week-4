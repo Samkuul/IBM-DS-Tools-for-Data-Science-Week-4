{
 "cells": [
  {
   "cell_type": "markdown",
   "id": "29af5e13-6ffb-44ad-bf34-1af7edf5ca2c",
   "metadata": {},
   "source": [
    "# My Juptyer Notebook for IBM Data Science Professional Certificate - Tools for Data Science - Week 4\n",
    "## Sandras kulemeka\n",
    "\n",
    "I am interested in data science becuase I like working with data and computers"
   ]
  },
  {
   "cell_type": "markdown",
   "id": "13090320-7f67-43aa-b814-e6991f743e5c",
   "metadata": {},
   "source": [
    "The following code tests the Gauss formula"
   ]
  },
  {
   "cell_type": "code",
   "execution_count": 1,
   "id": "37cff5ac-c587-4d09-92a3-5c1b5f5371fd",
   "metadata": {},
   "outputs": [
    {
     "data": {
      "text/plain": [
       "True"
      ]
     },
     "execution_count": 1,
     "metadata": {},
     "output_type": "execute_result"
    }
   ],
   "source": [
    "def gause(n):\n",
    "    return (n*(n+1))/2\n",
    "gause(100) == sum(range(101))"
   ]
  },
  {
   "cell_type": "markdown",
   "id": "493f7ab1-4445-40f5-9d48-c3bcda2dd960",
   "metadata": {},
   "source": [
    "<html>\n",
    "<ul>\n",
    "    <li>one</li>\n",
    "    <li>two</li>\n",
    "    <li>three</li>\n",
    "    <li>one</li>\n",
    "    <li>two</li>\n",
    "    <li>three</li>\n",
    "</ul>\n",
    "</html>"
   ]
  },
  {
   "cell_type": "code",
   "execution_count": null,
   "id": "dd644657-2abe-4067-a470-0bb48f450418",
   "metadata": {},
   "outputs": [],
   "source": []
  }
 ],
 "metadata": {
  "kernelspec": {
   "display_name": "Python 3 (ipykernel)",
   "language": "python",
   "name": "python3"
  },
  "language_info": {
   "codemirror_mode": {
    "name": "ipython",
    "version": 3
   },
   "file_extension": ".py",
   "mimetype": "text/x-python",
   "name": "python",
   "nbconvert_exporter": "python",
   "pygments_lexer": "ipython3",
   "version": "3.10.4"
  }
 },
 "nbformat": 4,
 "nbformat_minor": 5
}
